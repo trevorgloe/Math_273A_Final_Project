{
 "cells": [
  {
   "cell_type": "markdown",
   "metadata": {},
   "source": [
    "# Teacher-student demo\n",
    "\n",
    "The `experiment.py` and `monomial_neural_network.py` files contain the code to set up the teacher model, the student mode, generate data, and train any model. Deeper layers and different activation functions can easily be added and tested.\n",
    "\n",
    "TODO: I'm gonna try and package the experiments we need to perform within a neat package and implement parallel computing so that it can run on CUDA GPUs if you guys have it. I do."
   ]
  },
  {
   "cell_type": "code",
   "execution_count": 1,
   "metadata": {},
   "outputs": [],
   "source": [
    "from monomial_neural_network import *\n",
    "from experiment import *"
   ]
  },
  {
   "cell_type": "markdown",
   "metadata": {},
   "source": [
    "Generating teacher model is really easy. All you need to do is specify the input data dimension and the teacher model's hidden layer sizes using a list."
   ]
  },
  {
   "cell_type": "code",
   "execution_count": 2,
   "metadata": {},
   "outputs": [
    {
     "name": "stdout",
     "output_type": "stream",
     "text": [
      "MonomialNeuralNetwork(\n",
      "  (layers): Sequential(\n",
      "    (0): Linear(in_features=2, out_features=5, bias=False)\n",
      "    (1): Monomial()\n",
      "    (2): Linear(in_features=5, out_features=10, bias=False)\n",
      "    (3): Monomial()\n",
      "    (4): Linear(in_features=10, out_features=15, bias=False)\n",
      "    (5): Monomial()\n",
      "    (6): Linear(in_features=15, out_features=1, bias=False)\n",
      "  )\n",
      ")\n"
     ]
    }
   ],
   "source": [
    "d = 2 # input data dimension\n",
    "teacher_k = [5, 10, 15] # teacher model hidden layer sizes - 3 layers with increasing number of neurons\n",
    "# teacher_k = [10] # teacher model hidden layer sizes - 1 layer with 10 neurons\n",
    "\n",
    "teacher_model = generate_teacher_model(d, teacher_k)\n",
    "print(teacher_model)"
   ]
  },
  {
   "cell_type": "markdown",
   "metadata": {},
   "source": [
    "Generating data using the `evaluate` method"
   ]
  },
  {
   "cell_type": "code",
   "execution_count": null,
   "metadata": {},
   "outputs": [
    {
     "name": "stdout",
     "output_type": "stream",
     "text": [
      "tensor([-0.5657, -1.6871]) tensor([196.1822]) tensor([196.1822])\n"
     ]
    }
   ],
   "source": [
    "n = 1000 # number of data points\n",
    "# same data dimension d as before\n",
    "\n",
    "data = generate_data(n, d, teacher_model)\n",
    "\n",
    "# verify that the data is generated correctly\n",
    "print(data[0][0], data[1][0], teacher_model.evaluate(data[0][0]))"
   ]
  },
  {
   "cell_type": "markdown",
   "metadata": {},
   "source": [
    "Generating the student model works exactly like generating the teacher model with the `generate_student_model` function"
   ]
  },
  {
   "cell_type": "code",
   "execution_count": null,
   "metadata": {},
   "outputs": [],
   "source": [
    "student_k = [10, 20] # student model hidden layer sizes - 2 layers with increasing number of neurons\n",
    "student_model = generate_student_model(d, student_k)"
   ]
  },
  {
   "cell_type": "markdown",
   "metadata": {},
   "source": [
    "Training using the `train` function"
   ]
  },
  {
   "cell_type": "code",
   "execution_count": 5,
   "metadata": {},
   "outputs": [
    {
     "name": "stdout",
     "output_type": "stream",
     "text": [
      "starting training\n",
      "Epoch [0/1000], Loss: 44396851200.00000\n",
      "Epoch [100/1000], Loss: 44080357376.00000\n",
      "Epoch [200/1000], Loss: 41901817856.00000\n",
      "Epoch [300/1000], Loss: 34468802560.00000\n",
      "Epoch [400/1000], Loss: 18993969152.00000\n",
      "Epoch [500/1000], Loss: 8256282112.00000\n",
      "Epoch [600/1000], Loss: 7662319104.00000\n",
      "Epoch [700/1000], Loss: 7379383296.00000\n",
      "Epoch [800/1000], Loss: 7370374144.00000\n",
      "Epoch [900/1000], Loss: 7367033856.00000\n",
      "\n",
      "Training Complete\n"
     ]
    }
   ],
   "source": [
    "student_model, losses = train(\n",
    "    model = student_model, \n",
    "    x_train = data[0], \n",
    "    y_train= data[1], \n",
    "    num_epochs = 1000, \n",
    "    lr = 0.01\n",
    "    )"
   ]
  }
 ],
 "metadata": {
  "kernelspec": {
   "display_name": "optim_F2024",
   "language": "python",
   "name": "python3"
  },
  "language_info": {
   "codemirror_mode": {
    "name": "ipython",
    "version": 3
   },
   "file_extension": ".py",
   "mimetype": "text/x-python",
   "name": "python",
   "nbconvert_exporter": "python",
   "pygments_lexer": "ipython3",
   "version": "3.12.7"
  }
 },
 "nbformat": 4,
 "nbformat_minor": 2
}
