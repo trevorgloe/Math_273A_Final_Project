{
 "cells": [
  {
   "cell_type": "markdown",
   "metadata": {},
   "source": [
    "# Tests of GD Convergence Depth\n",
    "\n",
    "This document is a test of the hidden-layer depth threshold for different monomial activation functions. Specifically, SGL and Manelli found that \n",
    "$$ k \\geq 2d $$\n",
    "is sufficient for ensuring GD converges to 0 and has no spurious local minima. We seek to find the relationship between $k$ and $d$ for other monomials\n",
    "\n",
    "Here we will use a single-layer monomial-activation neural network. In some tests, all the output weights are set to 1 to better match Manelli, but not always."
   ]
  },
  {
   "cell_type": "code",
   "execution_count": null,
   "metadata": {},
   "outputs": [],
   "source": [
    "# inport nn files\n",
    "from experiment import *\n",
    "from monomial_neural_network import *\n",
    "import matplotlib.pyplot as plt\n",
    "import numpy as np"
   ]
  },
  {
   "cell_type": "code",
   "execution_count": 12,
   "metadata": {},
   "outputs": [],
   "source": [
    "## Create a function that will make data and train a neural network using a given number of data points and epochs\n",
    "def test_training(n, k, M):\n",
    "    # n is the number of data points\n",
    "    # k is the hidden layer depth\n",
    "    # M is the number of epochs\n",
    "\n",
    "    d = 14 # just fix the dimension of the data for now\n",
    "    teacher_k = [k] # single layer\n",
    "    teacher_model = generate_teacher_model_noOutWeight(d, teacher_k) # use unit weights for these calculations\n",
    "    # teacher_model = generate_teacher_model(d, teacher_k)\n",
    "    print(teacher_model)\n",
    "\n",
    "    # generate data\n",
    "    data = generate_data(n, d, teacher_model)\n",
    "\n",
    "    # create student\n",
    "    student_k = [k] # student model hidden layer sizes - 2 layers with increasing number of neurons\n",
    "    student_model = generate_student_model_noOutWeight(d, student_k)\n",
    "    # student_model = generate_student_model(d, k=student_k)\n",
    "\n",
    "    # train the student\n",
    "    student_model, losses = train(\n",
    "        model = student_model, \n",
    "        x_train = data[0], \n",
    "        y_train= data[1], \n",
    "        num_epochs = M, \n",
    "        lr = 2e-3,\n",
    "        print_stuff=False\n",
    "        )\n",
    "    \n",
    "    # print(student_model.layers[0].weight)\n",
    "    # print(student_model.layers[2].weight)\n",
    "    # print(teacher_model.layers[0].weight)\n",
    "    # print(teacher_model.layers[2].weight)\n",
    "    student_w = student_model.layers[0].weight.detach().numpy()\n",
    "    teacher_w = teacher_model.layers[0].weight.detach().numpy()\n",
    "    # return the final loss\n",
    "    return losses, student_w, teacher_w"
   ]
  },
  {
   "cell_type": "code",
   "execution_count": null,
   "metadata": {},
   "outputs": [
    {
     "name": "stdout",
     "output_type": "stream",
     "text": [
      "MonomialNeuralNetwork_noOutputWeight(\n",
      "  (layers): Sequential(\n",
      "    (0): Linear(in_features=14, out_features=4, bias=False)\n",
      "    (1): Monomial()\n",
      "    (2): Linear(in_features=4, out_features=1, bias=False)\n",
      "  )\n",
      ")\n",
      "starting training\n",
      "\n",
      "Training Complete\n",
      "2.2334020743919325e-10\n",
      "[[ 7.7486038e-07  8.9406967e-08 -2.9802322e-07 -4.8428774e-07\n",
      "  -7.0035458e-07  1.0579824e-06 -1.5879050e-07  8.9406967e-07\n",
      "   6.8638474e-07 -1.7881393e-07 -2.9057264e-07 -4.7683716e-07\n",
      "   1.9371510e-07  3.6507845e-07]\n",
      " [ 8.9406967e-08  1.4305115e-06  5.9604645e-07 -1.1920929e-07\n",
      "   9.5367432e-07 -2.3096800e-07 -1.1324883e-06  1.2964010e-06\n",
      "   7.5995922e-07 -1.0281801e-06 -1.1622906e-06 -3.8743019e-07\n",
      "  -1.0728836e-06 -7.7486038e-07]\n",
      " [-2.9802322e-07  5.9604645e-07  5.9604645e-08 -3.4272671e-07\n",
      "   8.1956387e-07  7.4505806e-09 -1.1622906e-06  9.3877316e-07\n",
      "   1.0430813e-07 -1.6763806e-07 -1.0728836e-06  2.9802322e-08\n",
      "  -8.0466270e-07 -2.7939677e-07]\n",
      " [-4.8428774e-07 -1.1920929e-07 -3.4272671e-07 -1.6689301e-06\n",
      "  -4.0233135e-07  1.5534461e-06 -4.1723251e-07  1.0579824e-06\n",
      "  -5.8114529e-07  3.1292439e-07  1.0132790e-06 -1.7136335e-06\n",
      "  -6.4074993e-07 -6.7055225e-07]\n",
      " [-7.0035458e-07  9.5367432e-07  8.1956387e-07 -4.0233135e-07\n",
      "  -3.9488077e-07  6.9662929e-07 -6.7055225e-08  1.2777746e-06\n",
      "   3.5017729e-07 -3.9488077e-07 -2.5331974e-07 -1.4901161e-07\n",
      "  -9.6857548e-08 -5.2154064e-07]\n",
      " [ 1.0579824e-06 -2.3096800e-07  7.4505806e-09  1.5534461e-06\n",
      "   6.9662929e-07 -2.0265579e-06  7.5250864e-07 -1.3373792e-06\n",
      "   6.2212348e-07 -1.3969839e-07 -6.8289228e-07  5.3644180e-07\n",
      "   3.2037497e-07  1.0207295e-06]\n",
      " [-1.5879050e-07 -1.1324883e-06 -1.1622906e-06 -4.1723251e-07\n",
      "  -6.7055225e-08  7.5250864e-07 -8.0466270e-07 -9.9092722e-07\n",
      "  -8.7916851e-07  9.5926225e-07  5.9604645e-07  7.5250864e-07\n",
      "  -2.2351742e-07  3.8743019e-07]\n",
      " [ 8.9406967e-07  1.2964010e-06  9.3877316e-07  1.0579824e-06\n",
      "   1.2777746e-06 -1.3373792e-06 -9.9092722e-07  2.0563602e-06\n",
      "   1.4826655e-06 -1.3038516e-06 -3.7699938e-06  1.1697412e-06\n",
      "   5.3644180e-07  1.4901161e-07]\n",
      " [ 6.8638474e-07  7.5995922e-07  1.0430813e-07 -5.8114529e-07\n",
      "   3.5017729e-07  6.2212348e-07 -8.7916851e-07  1.4826655e-06\n",
      "   5.8114529e-07 -6.4633787e-07 -6.5565109e-07 -9.9837780e-07\n",
      "  -6.1094761e-07 -5.1409006e-07]\n",
      " [-1.7881393e-07 -1.0281801e-06 -1.6763806e-07  3.1292439e-07\n",
      "  -3.9488077e-07 -1.3969839e-07  9.5926225e-07 -1.3038516e-06\n",
      "  -6.4633787e-07  1.4603138e-06  9.9837780e-07  1.9371510e-07\n",
      "   2.1234155e-07  1.3113022e-06]\n",
      " [-2.9057264e-07 -1.1622906e-06 -1.0728836e-06  1.0132790e-06\n",
      "  -2.5331974e-07 -6.8289228e-07  5.9604645e-07 -3.7699938e-06\n",
      "  -6.5565109e-07  9.9837780e-07  2.1159649e-06  1.4081597e-06\n",
      "  -5.6624413e-07  9.2387199e-07]\n",
      " [-4.7683716e-07 -3.8743019e-07  2.9802322e-08 -1.7136335e-06\n",
      "  -1.4901161e-07  5.3644180e-07  7.5250864e-07  1.1697412e-06\n",
      "  -9.9837780e-07  1.9371510e-07  1.4081597e-06 -3.1292439e-06\n",
      "  -1.1920929e-07 -1.0915101e-06]\n",
      " [ 1.9371510e-07 -1.0728836e-06 -8.0466270e-07 -6.4074993e-07\n",
      "  -9.6857548e-08  3.2037497e-07 -2.2351742e-07  5.3644180e-07\n",
      "  -6.1094761e-07  2.1234155e-07 -5.6624413e-07 -1.1920929e-07\n",
      "   9.9837780e-07 -8.1956387e-08]\n",
      " [ 3.6507845e-07 -7.7486038e-07 -2.7939677e-07 -6.7055225e-07\n",
      "  -5.2154064e-07  1.0207295e-06  3.8743019e-07  1.4901161e-07\n",
      "  -5.1409006e-07  1.3113022e-06  9.2387199e-07 -1.0915101e-06\n",
      "  -8.1956387e-08  8.9406967e-07]]\n"
     ]
    },
    {
     "data": {
      "text/plain": [
       "Text(0.5, 0, 'Iteration')"
      ]
     },
     "execution_count": 15,
     "metadata": {},
     "output_type": "execute_result"
    },
    {
     "data": {
      "image/png": "[encoded data removed]",
      "text/plain": [
       "<Figure size 640x480 with 1 Axes>"
      ]
     },
     "metadata": {},
     "output_type": "display_data"
    }
   ],
   "source": [
    "# test out the function\n",
    "l, stud_w, teach_w = test_training(n=1000, k=4, M=10000)\n",
    "print(l[-1])\n",
    "print(stud_w.T@stud_w - teach_w.T@teach_w)\n",
    "stud_eig, stud_eig_vec = np.linalg.eig(stud_w.T@stud_w)\n",
    "teach_eig, teach_eig_vec = np.linalg.eig(teach_w.T@teach_w)\n",
    "print(stud_eig)\n",
    "print(teach_eig)\n",
    "fig = plt.figure()\n",
    "plt.plot(np.arange(len(l)),l,'b.')\n",
    "plt.ylabel(\"Empirical Loss\")\n",
    "plt.xlabel(\"Iteration\")"
   ]
  }
 ],
 "metadata": {
  "kernelspec": {
   "display_name": ".venv",
   "language": "python",
   "name": "python3"
  },
  "language_info": {
   "codemirror_mode": {
    "name": "ipython",
    "version": 3
   },
   "file_extension": ".py",
   "mimetype": "text/x-python",
   "name": "python",
   "nbconvert_exporter": "python",
   "pygments_lexer": "ipython3",
   "version": "3.10.12"
  }
 },
 "nbformat": 4,
 "nbformat_minor": 2
}
