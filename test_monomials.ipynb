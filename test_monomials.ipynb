{
 "cells": [
  {
   "cell_type": "code",
   "execution_count": 1,
   "metadata": {},
   "outputs": [],
   "source": [
    "import numpy as np\n",
    "import monomial_activations"
   ]
  },
  {
   "cell_type": "code",
   "execution_count": 3,
   "metadata": {},
   "outputs": [
    {
     "name": "stdout",
     "output_type": "stream",
     "text": [
      "creating an nn with 4 hidden layers\n",
      "ShallowNeuralNetwork(\n",
      "  (hidden): Linear(in_features=2, out_features=4, bias=True)\n",
      "  (output): Linear(in_features=4, out_features=1, bias=False)\n",
      "  (quad): polynomial()\n",
      ")\n",
      "starting training\n",
      "Epoch [0/5000], Loss: 60.64406\n",
      "Epoch [200/5000], Loss: 48.21566\n",
      "Epoch [400/5000], Loss: 23.94027\n",
      "Epoch [600/5000], Loss: 5.44421\n",
      "Epoch [800/5000], Loss: 0.16993\n",
      "Epoch [1000/5000], Loss: 0.07025\n",
      "Epoch [1200/5000], Loss: 0.05077\n",
      "Epoch [1400/5000], Loss: 0.02815\n",
      "Epoch [1600/5000], Loss: 0.00950\n",
      "Epoch [1800/5000], Loss: 0.00593\n",
      "Epoch [2000/5000], Loss: 0.00546\n",
      "Epoch [2200/5000], Loss: 0.00518\n",
      "Epoch [2400/5000], Loss: 0.00496\n",
      "Epoch [2600/5000], Loss: 0.00477\n",
      "Epoch [2800/5000], Loss: 0.00461\n",
      "Epoch [3000/5000], Loss: 0.00447\n",
      "Epoch [3200/5000], Loss: 0.00434\n",
      "Epoch [3400/5000], Loss: 0.00423\n",
      "Epoch [3600/5000], Loss: 0.00413\n",
      "Epoch [3800/5000], Loss: 0.00403\n",
      "Epoch [4000/5000], Loss: 0.00394\n",
      "Epoch [4200/5000], Loss: 0.00386\n",
      "Epoch [4400/5000], Loss: 0.00378\n",
      "Epoch [4600/5000], Loss: 0.00370\n",
      "Epoch [4800/5000], Loss: 0.00362\n",
      "\n",
      "Training Complete\n",
      "ShallowNeuralNetwork(\n",
      "  (hidden): Linear(in_features=2, out_features=4, bias=True)\n",
      "  (output): Linear(in_features=4, out_features=1, bias=False)\n",
      "  (quad): polynomial()\n",
      ")\n",
      "Parameter containing:\n",
      "tensor([[-0.4387, -0.0034],\n",
      "        [ 0.7350, -1.6252],\n",
      "        [ 0.2332,  1.2200],\n",
      "        [-0.3309, -0.1547]], requires_grad=True)\n",
      "Parameter containing:\n",
      "tensor([ 0.0581, -0.4709,  0.8605,  0.0544], requires_grad=True)\n",
      "Parameter containing:\n",
      "tensor([[ 0.0315,  1.2052,  1.0276, -0.0974]], requires_grad=True)\n"
     ]
    }
   ],
   "source": [
    "teacher_W = np.array([[1,2, 0.4],[1,-1, -0.2],[0,2, 0.9], [1,1, 0]])\n",
    "teacher_v = np.array([[0, 1, 1, -0.2]])\n",
    "dim_x = 2\n",
    "dim_y = 1\n",
    "N = 10\n",
    "\n",
    "outmodel = monomial_activations.student_teacher_train(teacher_W=teacher_W, teacher_v=teacher_v, dim_x=dim_x, dim_y=dim_y, N=N, num_epochs=10000, lr=5e-3)\n",
    "print(outmodel)\n",
    "print(outmodel.hidden.weight)\n",
    "print(outmodel.hidden.bias)\n",
    "print(outmodel.output.weight)"
   ]
  }
 ],
 "metadata": {
  "kernelspec": {
   "display_name": ".venv",
   "language": "python",
   "name": "python3"
  },
  "language_info": {
   "codemirror_mode": {
    "name": "ipython",
    "version": 3
   },
   "file_extension": ".py",
   "mimetype": "text/x-python",
   "name": "python",
   "nbconvert_exporter": "python",
   "pygments_lexer": "ipython3",
   "version": "3.10.12"
  }
 },
 "nbformat": 4,
 "nbformat_minor": 2
}
