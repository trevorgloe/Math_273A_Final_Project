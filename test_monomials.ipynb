{
 "cells": [
  {
   "cell_type": "code",
   "execution_count": 1,
   "metadata": {},
   "outputs": [],
   "source": [
    "import numpy as np\n",
    "import monomial_activations"
   ]
  },
  {
   "cell_type": "code",
   "execution_count": 2,
   "metadata": {},
   "outputs": [
    {
     "name": "stdout",
     "output_type": "stream",
     "text": [
      "creating an nn with 4 hidden layers\n",
      "ShallowNeuralNetwork(\n",
      "  (hidden): Linear(in_features=2, out_features=4, bias=True)\n",
      "  (output): Linear(in_features=4, out_features=1, bias=False)\n",
      "  (quad): polynomial()\n",
      ")\n",
      "starting training\n",
      "Epoch [0/10000], Loss: 62.07622\n",
      "Epoch [200/10000], Loss: 34.33020\n",
      "Epoch [400/10000], Loss: 5.71475\n",
      "Epoch [600/10000], Loss: 0.23882\n",
      "Epoch [800/10000], Loss: 0.03199\n",
      "Epoch [1000/10000], Loss: 0.01413\n",
      "Epoch [1200/10000], Loss: 0.00835\n",
      "Epoch [1400/10000], Loss: 0.00615\n",
      "Epoch [1600/10000], Loss: 0.00524\n",
      "Epoch [1800/10000], Loss: 0.00483\n",
      "Epoch [2000/10000], Loss: 0.00465\n",
      "Epoch [2200/10000], Loss: 0.00455\n",
      "Epoch [2400/10000], Loss: 0.00450\n",
      "Epoch [2600/10000], Loss: 0.00446\n",
      "Epoch [2800/10000], Loss: 0.00443\n",
      "Epoch [3000/10000], Loss: 0.00441\n",
      "Epoch [3200/10000], Loss: 0.00439\n",
      "Epoch [3400/10000], Loss: 0.00437\n",
      "Epoch [3600/10000], Loss: 0.00434\n",
      "Epoch [3800/10000], Loss: 0.00432\n",
      "Epoch [4000/10000], Loss: 0.00430\n",
      "Epoch [4200/10000], Loss: 0.00427\n",
      "Epoch [4400/10000], Loss: 0.00424\n",
      "Epoch [4600/10000], Loss: 0.00422\n",
      "Epoch [4800/10000], Loss: 0.00419\n",
      "Epoch [5000/10000], Loss: 0.00415\n",
      "Epoch [5200/10000], Loss: 0.00412\n",
      "Epoch [5400/10000], Loss: 0.00408\n",
      "Epoch [5600/10000], Loss: 0.00404\n",
      "Epoch [5800/10000], Loss: 0.00400\n",
      "Epoch [6000/10000], Loss: 0.00395\n",
      "Epoch [6200/10000], Loss: 0.00390\n",
      "Epoch [6400/10000], Loss: 0.00385\n",
      "Epoch [6600/10000], Loss: 0.00379\n",
      "Epoch [6800/10000], Loss: 0.00373\n",
      "Epoch [7000/10000], Loss: 0.00366\n",
      "Epoch [7200/10000], Loss: 0.00358\n",
      "Epoch [7400/10000], Loss: 0.00350\n",
      "Epoch [7600/10000], Loss: 0.00341\n",
      "Epoch [7800/10000], Loss: 0.00331\n",
      "Epoch [8000/10000], Loss: 0.00321\n",
      "Epoch [8200/10000], Loss: 0.00309\n",
      "Epoch [8400/10000], Loss: 0.00297\n",
      "Epoch [8600/10000], Loss: 0.00283\n",
      "Epoch [8800/10000], Loss: 0.00269\n",
      "Epoch [9000/10000], Loss: 0.00254\n",
      "Epoch [9200/10000], Loss: 0.00238\n",
      "Epoch [9400/10000], Loss: 0.00221\n",
      "Epoch [9600/10000], Loss: 0.00204\n",
      "Epoch [9800/10000], Loss: 0.00186\n",
      "\n",
      "Training Complete\n",
      "ShallowNeuralNetwork(\n",
      "  (hidden): Linear(in_features=2, out_features=4, bias=True)\n",
      "  (output): Linear(in_features=4, out_features=1, bias=False)\n",
      "  (quad): polynomial()\n",
      ")\n",
      "Parameter containing:\n",
      "tensor([[ 1.0196, -0.2455],\n",
      "        [-0.1062,  0.1091],\n",
      "        [-0.3945,  1.8407],\n",
      "        [ 0.2574, -0.2902]], requires_grad=True)\n",
      "Parameter containing:\n",
      "tensor([ 0.3295,  0.4689,  0.8068, -0.0705], requires_grad=True)\n",
      "Parameter containing:\n",
      "tensor([[ 0.5617, -0.2824,  1.3875,  0.2029]], requires_grad=True)\n"
     ]
    }
   ],
   "source": [
    "teacher_W = np.array([[1,2, 0.4],[1,-1, -0.2],[0,2, 0.9], [1,1, 0]])\n",
    "teacher_v = np.array([[0, 1, 1, -0.2]])\n",
    "dim_x = 2\n",
    "dim_y = 1\n",
    "N = 10\n",
    "\n",
    "outmodel = monomial_activations.student_teacher_train(teacher_W=teacher_W, teacher_v=teacher_v, dim_x=dim_x, dim_y=dim_y, N=N, num_epochs=10000, lr=5e-3)\n",
    "print(outmodel)\n",
    "print(outmodel.hidden.weight)\n",
    "print(outmodel.hidden.bias)\n",
    "print(outmodel.output.weight)"
   ]
  },
  {
   "cell_type": "code",
   "execution_count": null,
   "metadata": {},
   "outputs": [],
   "source": []
  }
 ],
 "metadata": {
  "kernelspec": {
   "display_name": "optim_F2024",
   "language": "python",
   "name": "python3"
  },
  "language_info": {
   "codemirror_mode": {
    "name": "ipython",
    "version": 3
   },
   "file_extension": ".py",
   "mimetype": "text/x-python",
   "name": "python",
   "nbconvert_exporter": "python",
   "pygments_lexer": "ipython3",
   "version": "3.12.7"
  }
 },
 "nbformat": 4,
 "nbformat_minor": 2
}
