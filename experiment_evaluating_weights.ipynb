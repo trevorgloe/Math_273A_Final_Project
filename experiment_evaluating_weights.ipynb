{
 "cells": [
  {
   "cell_type": "code",
   "execution_count": 2,
   "metadata": {},
   "outputs": [],
   "source": [
    "from monomial_neural_network import *\n",
    "from experiment import *"
   ]
  },
  {
   "cell_type": "code",
   "execution_count": 14,
   "metadata": {},
   "outputs": [
    {
     "name": "stdout",
     "output_type": "stream",
     "text": [
      "MonomialNeuralNetwork(\n",
      "  (layers): Sequential(\n",
      "    (0): Linear(in_features=2, out_features=10, bias=False)\n",
      "    (1): Monomial()\n",
      "    (2): Linear(in_features=10, out_features=1, bias=False)\n",
      "  )\n",
      ")\n",
      "tensor([0.0379, 1.7944]) tensor([19.8245]) tensor([19.8245])\n"
     ]
    }
   ],
   "source": [
    "d = 2 # input data dimension\n",
    "teacher_k = [10] # teacher model hidden layer sizes - 3 layers with increasing number of neurons\n",
    "# teacher_k = [10] # teacher model hidden layer sizes - 1 layer with 10 neurons\n",
    "\n",
    "teacher_model = generate_teacher_model(d, teacher_k)\n",
    "print(teacher_model)\n",
    "\n",
    "n = 1000 # number of data points\n",
    "# same data dimension d as before\n",
    "\n",
    "data = generate_data(n, d, teacher_model)\n",
    "\n",
    "# verify that the data is generated correctly\n",
    "print(data[0][0], data[1][0], teacher_model.evaluate(data[0][0]))\n",
    "\n",
    "student_k = [10] # student model hidden layer sizes - 2 layers with increasing number of neurons\n",
    "student_model = generate_student_model(d, student_k)\n",
    "\n"
   ]
  },
  {
   "cell_type": "code",
   "execution_count": 15,
   "metadata": {},
   "outputs": [
    {
     "name": "stdout",
     "output_type": "stream",
     "text": [
      "starting training\n",
      "Epoch [0/1000], Loss: 177.40355\n",
      "Epoch [100/1000], Loss: 144.24333\n",
      "Epoch [200/1000], Loss: 114.59195\n",
      "Epoch [300/1000], Loss: 88.33173\n",
      "Epoch [400/1000], Loss: 65.43103\n",
      "Epoch [500/1000], Loss: 45.93804\n",
      "Epoch [600/1000], Loss: 29.96908\n",
      "Epoch [700/1000], Loss: 17.68212\n",
      "Epoch [800/1000], Loss: 9.20195\n",
      "Epoch [900/1000], Loss: 4.32761\n",
      "\n",
      "Training Complete\n"
     ]
    }
   ],
   "source": [
    "# train the student\n",
    "student_model, losses = train(\n",
    "    model = student_model, \n",
    "    x_train = data[0], \n",
    "    y_train= data[1], \n",
    "    num_epochs = 5000, \n",
    "    lr = 1e-3\n",
    "    )"
   ]
  },
  {
   "cell_type": "code",
   "execution_count": 13,
   "metadata": {},
   "outputs": [
    {
     "name": "stdout",
     "output_type": "stream",
     "text": [
      "[[ 0.220054    1.0855627 ]\n",
      " [ 0.750685   -0.32780513]\n",
      " [ 0.19331051  0.03366488]\n",
      " [-0.78595996  0.10697188]\n",
      " [ 0.07561972 -2.1309059 ]\n",
      " [-1.3225788  -0.33739987]\n",
      " [-0.8916763   0.28893992]\n",
      " [ 0.49563265 -0.57778037]\n",
      " [-1.0335886   0.8575047 ]\n",
      " [-0.40979555  1.1342314 ]]\n",
      "[[-0.47236213 -1.1775715 ]\n",
      " [-0.270607    0.46297172]\n",
      " [-0.19631551  0.8978002 ]\n",
      " [ 0.6561154   0.06425652]\n",
      " [ 0.13269465  0.46593502]\n",
      " [ 0.40956682 -0.4293697 ]\n",
      " [ 0.29044786  0.13869771]\n",
      " [ 0.40141216 -0.1226082 ]\n",
      " [-0.17261752 -1.4038088 ]\n",
      " [ 0.2946981   0.4992285 ]]\n",
      "[[ 5.298963  -1.6947823]\n",
      " [-1.6947823  8.392189 ]]\n",
      "[4.5511703 9.139982 ]\n",
      "[[1.3128697  0.56334764]\n",
      " [0.56334764 5.0668235 ]]\n",
      "[1.230152  5.1495414]\n"
     ]
    }
   ],
   "source": [
    "# lets look at the weight matrices\n",
    "student_w = student_model.layers[0].weight.detach().numpy()\n",
    "teacher_w = teacher_model.layers[0].weight.detach().numpy()\n",
    "print(student_w)\n",
    "print(teacher_w)\n",
    "A = student_w.T @ student_w\n",
    "Astar = teacher_w.T @ teacher_w\n",
    "print(A)\n",
    "eigA, eigvecA = np.linalg.eig(A)\n",
    "print(eigA)\n",
    "print(Astar)\n",
    "eigAstar, eigvecAstar = np.linalg.eig(Astar)\n",
    "print(eigAstar)\n"
   ]
  }
 ],
 "metadata": {
  "kernelspec": {
   "display_name": ".venv",
   "language": "python",
   "name": "python3"
  },
  "language_info": {
   "codemirror_mode": {
    "name": "ipython",
    "version": 3
   },
   "file_extension": ".py",
   "mimetype": "text/x-python",
   "name": "python",
   "nbconvert_exporter": "python",
   "pygments_lexer": "ipython3",
   "version": "3.10.12"
  }
 },
 "nbformat": 4,
 "nbformat_minor": 2
}
